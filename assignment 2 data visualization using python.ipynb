{
  "nbformat": 4,
  "nbformat_minor": 0,
  "metadata": {
    "colab": {
      "name": "Untitled6.ipynb",
      "provenance": [],
      "collapsed_sections": []
    },
    "kernelspec": {
      "name": "python3",
      "display_name": "Python 3"
    },
    "language_info": {
      "name": "python"
    }
  },
  "cells": [
    {
      "cell_type": "code",
      "metadata": {
        "id": "iGvcjqZrz_os"
      },
      "source": [
        "#Data Visualization Using Python Essentials | Day 1 | LetsUpgrade\n"
      ],
      "execution_count": 1,
      "outputs": []
    },
    {
      "cell_type": "code",
      "metadata": {
        "id": "aFpGFTQP0iVX"
      },
      "source": [
        "#05/07/2021"
      ],
      "execution_count": 2,
      "outputs": []
    },
    {
      "cell_type": "code",
      "metadata": {
        "id": "iO9oXofJ0sBq"
      },
      "source": [
        "#assignment 2"
      ],
      "execution_count": 3,
      "outputs": []
    },
    {
      "cell_type": "code",
      "metadata": {
        "id": "ABEQiUtI0vfl"
      },
      "source": [
        "#matplotlib"
      ],
      "execution_count": 4,
      "outputs": []
    },
    {
      "cell_type": "code",
      "metadata": {
        "id": "TKQSl1Rn0yzR"
      },
      "source": [
        "#line plot"
      ],
      "execution_count": 5,
      "outputs": []
    },
    {
      "cell_type": "code",
      "metadata": {
        "id": "raQRqwd909fV"
      },
      "source": [
        "#question 2 :  day= [1,2,3,4,5,6,7], sales1=[160,150,140,145,175,165,180], sales2=[70,90,160,150,140,145,175]: line plot "
      ],
      "execution_count": 6,
      "outputs": []
    },
    {
      "cell_type": "code",
      "metadata": {
        "id": "paMqDi1h1WPY"
      },
      "source": [
        "import numpy as np"
      ],
      "execution_count": 7,
      "outputs": []
    },
    {
      "cell_type": "code",
      "metadata": {
        "id": "o3hAmHOm1fr2"
      },
      "source": [
        "import pandas as pd"
      ],
      "execution_count": 8,
      "outputs": []
    },
    {
      "cell_type": "code",
      "metadata": {
        "id": "acByz2UR1imo"
      },
      "source": [
        "import matplotlib as mpl"
      ],
      "execution_count": 9,
      "outputs": []
    },
    {
      "cell_type": "code",
      "metadata": {
        "id": "DE7FUQpn1n84"
      },
      "source": [
        "import seaborn as sns"
      ],
      "execution_count": 10,
      "outputs": []
    },
    {
      "cell_type": "code",
      "metadata": {
        "id": "KaLJPPkT1wcM"
      },
      "source": [
        "import matplotlib.pyplot as plt\n"
      ],
      "execution_count": 11,
      "outputs": []
    },
    {
      "cell_type": "code",
      "metadata": {
        "id": "W72sZJuN11RN"
      },
      "source": [
        "#importing all libraries in python for data visulaization"
      ],
      "execution_count": 12,
      "outputs": []
    },
    {
      "cell_type": "code",
      "metadata": {
        "id": "iJVu6YIa19xd"
      },
      "source": [
        "%matplotlib inline"
      ],
      "execution_count": 13,
      "outputs": []
    },
    {
      "cell_type": "code",
      "metadata": {
        "id": "_r_uh3jW2L4p"
      },
      "source": [
        "day= [1,2,3,4,5,6,7]"
      ],
      "execution_count": 35,
      "outputs": []
    },
    {
      "cell_type": "code",
      "metadata": {
        "colab": {
          "base_uri": "https://localhost:8080/",
          "height": 0
        },
        "id": "LtQ55hgZ2rfX",
        "outputId": "7f6031cf-f60d-4412-9b5d-7e85a9f278e4"
      },
      "source": [
        "day"
      ],
      "execution_count": 36,
      "outputs": [
        {
          "output_type": "execute_result",
          "data": {
            "text/plain": [
              "[1, 2, 3, 4, 5, 6, 7]"
            ]
          },
          "metadata": {
            "tags": []
          },
          "execution_count": 36
        }
      ]
    },
    {
      "cell_type": "code",
      "metadata": {
        "id": "VIYGXVOH2xkN"
      },
      "source": [
        "sales1=[160,150,140,145,175,165,180]"
      ],
      "execution_count": 37,
      "outputs": []
    },
    {
      "cell_type": "code",
      "metadata": {
        "colab": {
          "base_uri": "https://localhost:8080/",
          "height": 0
        },
        "id": "2Gb29SUp21Hj",
        "outputId": "80810f1e-e588-4a61-db9a-abfdfd2a6d6e"
      },
      "source": [
        "sales1"
      ],
      "execution_count": 38,
      "outputs": [
        {
          "output_type": "execute_result",
          "data": {
            "text/plain": [
              "[160, 150, 140, 145, 175, 165, 180]"
            ]
          },
          "metadata": {
            "tags": []
          },
          "execution_count": 38
        }
      ]
    },
    {
      "cell_type": "code",
      "metadata": {
        "id": "sWyh3yBz22Ty"
      },
      "source": [
        "sales2=[70,90,160,150,140,145,175]"
      ],
      "execution_count": 39,
      "outputs": []
    },
    {
      "cell_type": "code",
      "metadata": {
        "colab": {
          "base_uri": "https://localhost:8080/",
          "height": 0
        },
        "id": "-4kHB-809Puz",
        "outputId": "a3692b29-9911-4a5f-ac34-2c8cc2bc87d5"
      },
      "source": [
        "sales2"
      ],
      "execution_count": 40,
      "outputs": [
        {
          "output_type": "execute_result",
          "data": {
            "text/plain": [
              "[70, 90, 160, 150, 140, 145, 175]"
            ]
          },
          "metadata": {
            "tags": []
          },
          "execution_count": 40
        }
      ]
    },
    {
      "cell_type": "code",
      "metadata": {
        "colab": {
          "base_uri": "https://localhost:8080/",
          "height": 295
        },
        "id": "LTwQSxa29Yfd",
        "outputId": "258f3a55-de63-41f4-a694-85d315bf31de"
      },
      "source": [
        "plt.title(\"sales per day\" , color=\"r\")\n",
        "plt.xlabel(\"Days\" , color=\"b\")\n",
        "plt.ylabel(\"Sales\" , color=\"g\")\n",
        "plt.plot(day, sales1 ,\"ro--\", linewidth=1, markersize=2)\n",
        "plt.plot(day, sales2 ,\"g*-\", linewidth=2, markersize=4)\n",
        "plt.show()\n"
      ],
      "execution_count": 49,
      "outputs": [
        {
          "output_type": "display_data",
          "data": {
            "image/png": "[encoded data removed]",
            "text/plain": [
              "<Figure size 432x288 with 1 Axes>"
            ]
          },
          "metadata": {
            "tags": [],
            "needs_background": "light"
          }
        }
      ]
    }
  ]
}